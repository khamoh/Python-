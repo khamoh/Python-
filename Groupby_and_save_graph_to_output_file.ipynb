{
  "nbformat": 4,
  "nbformat_minor": 0,
  "metadata": {
    "colab": {
      "name": "Groupby and save graph to output file.ipynb",
      "provenance": [],
      "authorship_tag": "ABX9TyPMUq0CWJlVc3V4cojV7epC",
      "include_colab_link": true
    },
    "kernelspec": {
      "name": "python3",
      "display_name": "Python 3"
    }
  },
  "cells": [
    {
      "cell_type": "markdown",
      "metadata": {
        "id": "view-in-github",
        "colab_type": "text"
      },
      "source": [
        "<a href=\"https://colab.research.google.com/github/khamoh/Python-/blob/master/Groupby_and_save_graph_to_output_file.ipynb\" target=\"_parent\"><img src=\"https://colab.research.google.com/assets/colab-badge.svg\" alt=\"Open In Colab\"/></a>"
      ]
    },
    {
      "cell_type": "code",
      "metadata": {
        "id": "Lyncx28BBic8",
        "colab_type": "code",
        "colab": {}
      },
      "source": [
        "import os\n",
        "import matplotlib\n",
        "matplotlib.use('Agg')\n",
        "import matplotlib.pyplot as plt\n",
        "\n",
        "import pandas as pd\n",
        "\n",
        "#Input folder             : \"/home/edureka/data/training/sales.csv\"\n",
        "#Output folder            : \"/home/edureka/code/output.txt\"\n",
        "#Output graph png folder  : \"/home/edureka/output/salesoutput.png\"\n",
        "\n",
        "\n",
        "data =pd.read_csv(\"/home/edureka/data/training/sales.csv\", usecols=['year', 'month', 'sales'])\n",
        "\n",
        "#Groupby year and sum sales into yearly sales \n",
        "z_sum = data.groupby('year')['sales'].sum().reset_index(name='yearly sales')\n",
        "\n",
        "x = z_sum['year']\n",
        "y = z_sum['yearly sales']\n",
        "\n",
        "plt.figure(figsize=(16,12))\n",
        "\n",
        "f,(axis1) = plt.subplots(nrows=1, ncols=1)\n",
        "plt.title('Total Sales By Year',color='C0')\n",
        "plt.xlabel('Year',color='C3')\n",
        "plt.ylabel('Total Sales',color='C3')\n",
        "\n",
        "axis1.plot(x,y)\n",
        "#save the graph to output folder \n",
        "f.savefig(\"/home/edureka/output/salesoutput.png\")\n",
        "\n",
        "max= z_sum.max(axis=0)\n",
        "\n",
        "file = open(\"/home/edureka/code/\" +\"output.txt\", 'w+')\n",
        "file.write(str(max[1]))\n",
        "file.close()"
      ],
      "execution_count": 0,
      "outputs": []
    }
  ]
}