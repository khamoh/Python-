{
  "nbformat": 4,
  "nbformat_minor": 0,
  "metadata": {
    "colab": {
      "name": "attendance.ipynb",
      "provenance": [],
      "authorship_tag": "ABX9TyMxzh2yeo+KJnyqfvhSl0A2",
      "include_colab_link": true
    },
    "kernelspec": {
      "name": "python3",
      "display_name": "Python 3"
    }
  },
  "cells": [
    {
      "cell_type": "markdown",
      "metadata": {
        "id": "view-in-github",
        "colab_type": "text"
      },
      "source": [
        "<a href=\"https://colab.research.google.com/github/khamoh/Python-/blob/master/attendance.ipynb\" target=\"_parent\"><img src=\"https://colab.research.google.com/assets/colab-badge.svg\" alt=\"Open In Colab\"/></a>"
      ]
    },
    {
      "cell_type": "code",
      "metadata": {
        "id": "nawQ5Vo-SuQt",
        "colab_type": "code",
        "colab": {}
      },
      "source": [
        "\n",
        "import os\n",
        "import pandas as pd\n",
        "import numpy as np\n",
        "\n",
        "#+++++++++++++++++++++++++++++++++++++++++++++++++\n",
        "    # Set the Folders for changing directories \n",
        "#+++++++++++++++++++++++++++++++++++++++++++++++++\n",
        "dirres= \"/home/zzz/res/\"\n",
        "dirprog=\"/home/zzz/\"\n",
        "dirout=\"/home/zzz/output/\"\n",
        "\n",
        "def attendance(): \n",
        "    \n",
        "    os.chdir(dirprog)\n",
        "\n",
        "    #+++++++++++++++++++++++++++++++++++++++++++++++++\n",
        "    # Read Data file and create a DF for data \n",
        "    #+++++++++++++++++++++++++++++++++++++++++++++++++\n",
        "    sectionz = pd.read_csv('SECTION1.csv',delimiter=',', header=None) \n",
        "\n",
        "    sectionz.columns =[\"Sno\", \"Department\", \"Branch\", \"Semester\", \"Course\", \"RegistrationNo\", \"StudentName\", \"Date\", \"Slot group\", \"Time\", \"ClassConducted\", \"ClassAttended\"]\n",
        "\n",
        "    #sectionz.head()\n",
        "    #sectionz.columns\n",
        "    \n",
        "    # Create DF for a new format \n",
        "    sectiony = sectionz[['RegistrationNo','StudentName', 'Date','ClassAttended']]\n",
        "    #sectiony.head()\n",
        "    \n",
        "    # Select Unique dates from the file \n",
        "    len(sectiony.Date.unique())\n",
        "    dates = list(sectiony.Date.unique())\n",
        "\n",
        "    # drop duplicates \n",
        "    final = sectiony[[\"RegistrationNo\",\"StudentName\"]].drop_duplicates().reset_index(drop=True)\n",
        "\n",
        "    # For each unique dates, group by RegNo, sum Classattended by date \n",
        "    for dt in dates:\n",
        "        final[dt]=sectiony.groupby(\"RegistrationNo\").apply(lambda x:x[x.Date==dt][\"ClassAttended\"].sum()).values\n",
        "\n",
        "    #final.head()\n",
        "    \n",
        "    # Read Input file RegNo and Date, get the count from Final DF and write output files \n",
        "    os.chdir(dirres)\n",
        "    with open(\"testcase.txt\") as testfile:\n",
        "            x = int(testfile.readline().replace(\"\\n\", \"\"))\n",
        "            for i in range(1,x+1):\n",
        "                inp_regno = testfile.readline().replace(\"\\n\", \"\")\n",
        "                inp_date = testfile.readline().replace(\"\\n\", \"\")\n",
        "                #print(\"Write to file \", inp_regno)\n",
        "                #print(\"Write to file \", inp_date)\n",
        "                count = int(final[final[\"RegistrationNo\"]== inp_regno][inp_date].values)\n",
        "                #print('RegNo', inp_regno )\n",
        "                #print('Count', count )\n",
        "                #print('i' , i)\n",
        "                file = open(dirout +\"output\"+str(i)+'.txt', 'w+')\n",
        "                file.write(str(inp_regno)+'\\n')\n",
        "                file.write(str(count)+'\\n')\n",
        "                file.close()\n",
        "\n",
        "#Main Program begin\n",
        "attendance()\n",
        "#Main Program end \n"
      ],
      "execution_count": 0,
      "outputs": []
    }
  ]
}