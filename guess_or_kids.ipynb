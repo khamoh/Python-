{
  "nbformat": 4,
  "nbformat_minor": 0,
  "metadata": {
    "colab": {
      "name": "guess or kids.ipynb",
      "provenance": [],
      "authorship_tag": "ABX9TyOi4aZ1D985Dfs4Bj9DRWaX",
      "include_colab_link": true
    },
    "kernelspec": {
      "name": "python3",
      "display_name": "Python 3"
    }
  },
  "cells": [
    {
      "cell_type": "markdown",
      "metadata": {
        "id": "view-in-github",
        "colab_type": "text"
      },
      "source": [
        "<a href=\"https://colab.research.google.com/github/khamoh/Python-/blob/master/guess_or_kids.ipynb\" target=\"_parent\"><img src=\"https://colab.research.google.com/assets/colab-badge.svg\" alt=\"Open In Colab\"/></a>"
      ]
    },
    {
      "cell_type": "code",
      "metadata": {
        "id": "CkfI36VEkaQU",
        "colab_type": "code",
        "colab": {
          "base_uri": "https://localhost:8080/",
          "height": 478
        },
        "outputId": "99efc59f-dc16-4479-e919-89ca6e15ec35"
      },
      "source": [
        "x = 12\n",
        "y= 9\n",
        "\n",
        "print('Add : ', x+y)\n",
        "print('subtract : ', x-y)\n",
        "print('multiple : ', x*y)\n",
        "\n",
        "print('Square of x : ', x*x)\n",
        "print('Square of y : ', y*y)\n",
        "\n",
        "import random\n",
        "\n",
        "\n",
        "\n",
        "print('Random : ', z)\n",
        "\n",
        "\n",
        "for num in range(10):\n",
        "  z=  random.randint(1,10)\n",
        "  guess = input ('Guess a number between  1 and 10 ' )\n",
        "  if guess == z : \n",
        "    print('Great guess ')\n",
        "  else: \n",
        "    print('sorry actual number was :  ', z)\n",
        "     \n",
        "\n"
      ],
      "execution_count": 23,
      "outputs": [
        {
          "output_type": "stream",
          "text": [
            "Add :  21\n",
            "subtract :  3\n",
            "multiple :  108\n",
            "Square of x :  144\n",
            "Square of y :  81\n",
            "Random :  8\n",
            "Guess a number between  1 and 10 5\n",
            "sorry actual number was :   7\n",
            "Guess a number between  1 and 10 7\n",
            "sorry actual number was :   4\n",
            "Guess a number between  1 and 10 3\n",
            "sorry actual number was :   5\n",
            "Guess a number between  1 and 10 3\n",
            "sorry actual number was :   1\n",
            "Guess a number between  1 and 10 7\n",
            "sorry actual number was :   9\n",
            "Guess a number between  1 and 10 8\n",
            "sorry actual number was :   9\n",
            "Guess a number between  1 and 10 6\n",
            "sorry actual number was :   4\n",
            "Guess a number between  1 and 10 2\n",
            "sorry actual number was :   4\n",
            "Guess a number between  1 and 10 1\n",
            "sorry actual number was :   5\n",
            "Guess a number between  1 and 10 5\n",
            "sorry actual number was :   9\n"
          ],
          "name": "stdout"
        }
      ]
    }
  ]
}