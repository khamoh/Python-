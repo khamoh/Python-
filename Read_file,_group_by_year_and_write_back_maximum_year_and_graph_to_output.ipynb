{
  "nbformat": 4,
  "nbformat_minor": 0,
  "metadata": {
    "colab": {
      "name": "Read file, group by year and write back maximum year and graph to output.ipynb",
      "provenance": [],
      "authorship_tag": "ABX9TyO5prf25yHD4kK64cnSIaCm",
      "include_colab_link": true
    },
    "kernelspec": {
      "name": "python3",
      "display_name": "Python 3"
    }
  },
  "cells": [
    {
      "cell_type": "markdown",
      "metadata": {
        "id": "view-in-github",
        "colab_type": "text"
      },
      "source": [
        "<a href=\"https://colab.research.google.com/github/khamoh/Python-/blob/master/Read_file%2C_group_by_year_and_write_back_maximum_year_and_graph_to_output.ipynb\" target=\"_parent\"><img src=\"https://colab.research.google.com/assets/colab-badge.svg\" alt=\"Open In Colab\"/></a>"
      ]
    },
    {
      "cell_type": "code",
      "metadata": {
        "id": "UuJWKK3MLNl7",
        "colab_type": "code",
        "colab": {}
      },
      "source": [
        "import os\n",
        "import matplotlib\n",
        "matplotlib.use('Agg')\n",
        "import matplotlib.pyplot as plt\n",
        "\n",
        "import pandas as pd\n",
        "\n",
        "\n",
        "data =pd.read_csv(\"/data/training/sales.csv\", usecols=['year', 'month', 'sales'])\n",
        "\n",
        "z_sum = data.groupby('year')['sales'].sum().reset_index(name='yearly sales')\n",
        "\n",
        "x = z_sum['year']\n",
        "y = z_sum['yearly sales']\n",
        "\n",
        "plt.figure(figsize=(16,12))\n",
        "\n",
        "f,(axis1) = plt.subplots(nrows=1, ncols=1)\n",
        "plt.title('Total Sales By Year',color='C0')\n",
        "plt.xlabel('Year',color='C3')\n",
        "plt.ylabel('Total Sales',color='C3')\n",
        "\n",
        "axis1.plot(x,y)\n",
        "f.savefig(\"/code/salesoutput.png\")\n",
        "\n",
        "max= z_sum.max(axis=0)\n",
        "\n",
        "file = open(\"/code/\" +\"output.txt\", 'w+')\n",
        "file.write(str(max[1]))\n",
        "file.close()"
      ],
      "execution_count": 0,
      "outputs": []
    }
  ]
}